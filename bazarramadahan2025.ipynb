{
  "nbformat": 4,
  "nbformat_minor": 0,
  "metadata": {
    "colab": {
      "provenance": [],
      "authorship_tag": "ABX9TyNH0odeu1HUoaEkkUtpH5Qi",
      "include_colab_link": true
    },
    "kernelspec": {
      "name": "python3",
      "display_name": "Python 3"
    },
    "language_info": {
      "name": "python"
    }
  },
  "cells": [
    {
      "cell_type": "markdown",
      "metadata": {
        "id": "view-in-github",
        "colab_type": "text"
      },
      "source": [
        "<a href=\"https://colab.research.google.com/github/thegodswhosilentlywishthatyouaredead/deadwishes/blob/main/bazarramadahan2025.ipynb\" target=\"_parent\"><img src=\"https://colab.research.google.com/assets/colab-badge.svg\" alt=\"Open In Colab\"/></a>"
      ]
    },
    {
      "cell_type": "code",
      "source": [
        "import pandas as pd\n",
        "import folium\n",
        "from folium.plugins import MarkerCluster\n",
        "from streamlit_folium import st_folium\n",
        "import streamlit as st\n",
        "\n",
        "# Title\n",
        "st.title('Bazar Ramadan Locations in Kuala Lumpur 2025')\n",
        "\n",
        "# Load the data\n",
        "data = pd.read_csv('/content/bazar_ramadan_full_locations_2025_3.csv')\n",
        "\n",
        "# Initialize the map centered around Kuala Lumpur\n",
        "m = folium.Map(location=[3.1390, 101.6869], zoom_start=12)\n",
        "\n",
        "# Add a marker cluster\n",
        "marker_cluster = MarkerCluster().add_to(m)\n",
        "\n",
        "# Add markers to the map\n",
        "for idx, row in data.iterrows():\n",
        "    lat, lon = map(float, row['GPS Coordinates'].split(','))\n",
        "    popup_info = f\"\"\"\n",
        "    <b>Location:</b> {row['Location']}<br>\n",
        "    <b>Number of Stalls:</b> {row['Number of Stalls']}<br>\n",
        "    <b>Remarks:</b> {row['Remarks']}\n",
        "    \"\"\"\n",
        "    folium.Marker(\n",
        "        location=[lat, lon],\n",
        "        popup=folium.Popup(popup_info, max_width=300),\n",
        "        icon=folium.Icon(color='red', icon='info-sign')\n",
        "    ).add_to(marker_cluster)\n",
        "\n",
        "# Display the map in Streamlit\n",
        "st_folium(m, width=700, height=500)\n"
      ],
      "metadata": {
        "colab": {
          "base_uri": "https://localhost:8080/",
          "height": 383
        },
        "id": "yllE7Vz7wHFf",
        "outputId": "2517672f-5500-4749-bbae-8c741510d21c"
      },
      "execution_count": 4,
      "outputs": [
        {
          "output_type": "error",
          "ename": "ModuleNotFoundError",
          "evalue": "No module named 'streamlit_folium'",
          "traceback": [
            "\u001b[0;31m---------------------------------------------------------------------------\u001b[0m",
            "\u001b[0;31mModuleNotFoundError\u001b[0m                       Traceback (most recent call last)",
            "\u001b[0;32m<ipython-input-4-4738e2f001bb>\u001b[0m in \u001b[0;36m<cell line: 0>\u001b[0;34m()\u001b[0m\n\u001b[1;32m      2\u001b[0m \u001b[0;32mimport\u001b[0m \u001b[0mfolium\u001b[0m\u001b[0;34m\u001b[0m\u001b[0;34m\u001b[0m\u001b[0m\n\u001b[1;32m      3\u001b[0m \u001b[0;32mfrom\u001b[0m \u001b[0mfolium\u001b[0m\u001b[0;34m.\u001b[0m\u001b[0mplugins\u001b[0m \u001b[0;32mimport\u001b[0m \u001b[0mMarkerCluster\u001b[0m\u001b[0;34m\u001b[0m\u001b[0;34m\u001b[0m\u001b[0m\n\u001b[0;32m----> 4\u001b[0;31m \u001b[0;32mfrom\u001b[0m \u001b[0mstreamlit_folium\u001b[0m \u001b[0;32mimport\u001b[0m \u001b[0mst_folium\u001b[0m\u001b[0;34m\u001b[0m\u001b[0;34m\u001b[0m\u001b[0m\n\u001b[0m\u001b[1;32m      5\u001b[0m \u001b[0;32mimport\u001b[0m \u001b[0mstreamlit\u001b[0m \u001b[0;32mas\u001b[0m \u001b[0mst\u001b[0m\u001b[0;34m\u001b[0m\u001b[0;34m\u001b[0m\u001b[0m\n\u001b[1;32m      6\u001b[0m \u001b[0;34m\u001b[0m\u001b[0m\n",
            "\u001b[0;31mModuleNotFoundError\u001b[0m: No module named 'streamlit_folium'",
            "",
            "\u001b[0;31m---------------------------------------------------------------------------\u001b[0;32m\nNOTE: If your import is failing due to a missing package, you can\nmanually install dependencies using either !pip or !apt.\n\nTo view examples of installing some common dependencies, click the\n\"Open Examples\" button below.\n\u001b[0;31m---------------------------------------------------------------------------\u001b[0m\n"
          ],
          "errorDetails": {
            "actions": [
              {
                "action": "open_url",
                "actionText": "Open Examples",
                "url": "/notebooks/snippets/importing_libraries.ipynb"
              }
            ]
          }
        }
      ]
    }
  ]
}